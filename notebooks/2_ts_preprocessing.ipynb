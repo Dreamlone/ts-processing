{
 "cells": [
  {
   "cell_type": "markdown",
   "id": "e928330f-1661-414a-8f2f-6a5fa3f19d2d",
   "metadata": {},
   "source": [
    "# Предобработка временных рядов\n",
    "\n",
    "- Нерегулярные наблюдения\n",
    "- Проблемы семплирования\n",
    "- Заполнение пропусков\n",
    "- Фильтрация рядов\n",
    "- Устранение тренда и других компонент\n",
    "- Формальные тесты для обнаружения закономерностей (если они используются в AutoML инструментах)\n",
    "- Lagged представление\n"
   ]
  },
  {
   "cell_type": "code",
   "execution_count": null,
   "id": "ec09e554-1a65-4152-bddf-d8b76b6b6ec4",
   "metadata": {},
   "outputs": [],
   "source": []
  }
 ],
 "metadata": {
  "kernelspec": {
   "display_name": "Python 3 (ipykernel)",
   "language": "python",
   "name": "python3"
  },
  "language_info": {
   "codemirror_mode": {
    "name": "ipython",
    "version": 3
   },
   "file_extension": ".py",
   "mimetype": "text/x-python",
   "name": "python",
   "nbconvert_exporter": "python",
   "pygments_lexer": "ipython3",
   "version": "3.13.7"
  }
 },
 "nbformat": 4,
 "nbformat_minor": 5
}
