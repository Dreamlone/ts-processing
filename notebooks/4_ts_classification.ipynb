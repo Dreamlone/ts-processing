{
 "cells": [
  {
   "cell_type": "markdown",
   "id": "f8e7ba89-28aa-41b2-b24b-f5d6515c4200",
   "metadata": {},
   "source": [
    "## Классификация временных рядов\n",
    "\n",
    "См. примерную структуру как в предыдущей тетрадке"
   ]
  },
  {
   "cell_type": "code",
   "execution_count": null,
   "id": "89008bdd-8d84-4880-bea5-5f8078afff69",
   "metadata": {},
   "outputs": [],
   "source": []
  }
 ],
 "metadata": {
  "kernelspec": {
   "display_name": "Python 3 (ipykernel)",
   "language": "python",
   "name": "python3"
  },
  "language_info": {
   "codemirror_mode": {
    "name": "ipython",
    "version": 3
   },
   "file_extension": ".py",
   "mimetype": "text/x-python",
   "name": "python",
   "nbconvert_exporter": "python",
   "pygments_lexer": "ipython3",
   "version": "3.13.7"
  }
 },
 "nbformat": 4,
 "nbformat_minor": 5
}
