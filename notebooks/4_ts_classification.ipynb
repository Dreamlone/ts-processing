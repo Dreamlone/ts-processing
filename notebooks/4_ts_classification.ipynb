{
 "cells": [
  {
   "cell_type": "markdown",
   "id": "f8e7ba89-28aa-41b2-b24b-f5d6515c4200",
   "metadata": {},
   "source": [
    "# Классификация временных рядов\n",
    "\n",
    "## Постановка задачи\n",
    "\n",
    "Классификация временного ряда - это присвоение ряду (или его фрагменту) одного из предопределённых классов. \n",
    "\n",
    "Результат - метка класса или вектор вероятностей по классам.\n",
    "\n",
    "## Метрики \n",
    "\n",
    "Accuracy при сбалансированных классах; \n",
    "\n",
    "Macro-F1/AUPRC при дисбалансе; матрица ошибок\n",
    "\n",
    "FEDOT industrial \n",
    "\n",
    "https://evalml.alteryx.com/en/stable/autoapi/evalml/pipelines/time_series_classification_pipelines/index.html#module-evalml.pipelines.time_series_classification_pipelines\n",
    "\n",
    "https://www.aeon-toolkit.org/en/stable/"
   ]
  },
  {
   "cell_type": "code",
   "execution_count": null,
   "id": "89008bdd-8d84-4880-bea5-5f8078afff69",
   "metadata": {},
   "outputs": [],
   "source": []
  }
 ],
 "metadata": {
  "kernelspec": {
   "display_name": "Python 3 (ipykernel)",
   "language": "python",
   "name": "python3"
  },
  "language_info": {
   "codemirror_mode": {
    "name": "ipython",
    "version": 3
   },
   "file_extension": ".py",
   "mimetype": "text/x-python",
   "name": "python",
   "nbconvert_exporter": "python",
   "pygments_lexer": "ipython3",
   "version": "3.13.7"
  }
 },
 "nbformat": 4,
 "nbformat_minor": 5
}
